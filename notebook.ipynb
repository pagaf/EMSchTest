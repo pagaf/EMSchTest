{
  "cells": [
    {
      "cell_type": "code",
      "execution_count": 1,
      "metadata": {
        "colab": {
          "base_uri": "https://localhost:8080/"
        },
        "id": "eyGn1ogZq4Na",
        "outputId": "89c5ca9d-d644-47d4-f5a0-c8623bd33772"
      },
      "outputs": [
        {
          "output_type": "stream",
          "name": "stdout",
          "text": [
            "Collecting git+https://github.com/huggingface/parler-tts.git\n",
            "  Cloning https://github.com/huggingface/parler-tts.git to /tmp/pip-req-build-dxf7a0o6\n",
            "  Running command git clone --filter=blob:none --quiet https://github.com/huggingface/parler-tts.git /tmp/pip-req-build-dxf7a0o6\n",
            "  Resolved https://github.com/huggingface/parler-tts.git to commit dcaed95e1cce6f616e3e1956f8d63f0f3f5dfe5f\n",
            "  Installing build dependencies ... \u001b[?25l\u001b[?25hdone\n",
            "  Getting requirements to build wheel ... \u001b[?25l\u001b[?25hdone\n",
            "  Preparing metadata (pyproject.toml) ... \u001b[?25l\u001b[?25hdone\n",
            "Requirement already satisfied: transformers<=4.43.3,>=4.43.0 in /usr/local/lib/python3.10/dist-packages (from parler_tts==0.2) (4.43.3)\n",
            "Requirement already satisfied: torch in /usr/local/lib/python3.10/dist-packages (from parler_tts==0.2) (2.4.1+cu121)\n",
            "Requirement already satisfied: sentencepiece in /usr/local/lib/python3.10/dist-packages (from parler_tts==0.2) (0.2.0)\n",
            "Requirement already satisfied: descript-audio-codec in /usr/local/lib/python3.10/dist-packages (from parler_tts==0.2) (1.0.0)\n",
            "Requirement already satisfied: filelock in /usr/local/lib/python3.10/dist-packages (from transformers<=4.43.3,>=4.43.0->parler_tts==0.2) (3.16.1)\n",
            "Requirement already satisfied: huggingface-hub<1.0,>=0.23.2 in /usr/local/lib/python3.10/dist-packages (from transformers<=4.43.3,>=4.43.0->parler_tts==0.2) (0.24.7)\n",
            "Requirement already satisfied: numpy>=1.17 in /usr/local/lib/python3.10/dist-packages (from transformers<=4.43.3,>=4.43.0->parler_tts==0.2) (1.26.4)\n",
            "Requirement already satisfied: packaging>=20.0 in /usr/local/lib/python3.10/dist-packages (from transformers<=4.43.3,>=4.43.0->parler_tts==0.2) (24.1)\n",
            "Requirement already satisfied: pyyaml>=5.1 in /usr/local/lib/python3.10/dist-packages (from transformers<=4.43.3,>=4.43.0->parler_tts==0.2) (6.0.2)\n",
            "Requirement already satisfied: regex!=2019.12.17 in /usr/local/lib/python3.10/dist-packages (from transformers<=4.43.3,>=4.43.0->parler_tts==0.2) (2024.9.11)\n",
            "Requirement already satisfied: requests in /usr/local/lib/python3.10/dist-packages (from transformers<=4.43.3,>=4.43.0->parler_tts==0.2) (2.32.3)\n",
            "Requirement already satisfied: safetensors>=0.4.1 in /usr/local/lib/python3.10/dist-packages (from transformers<=4.43.3,>=4.43.0->parler_tts==0.2) (0.4.5)\n",
            "Requirement already satisfied: tokenizers<0.20,>=0.19 in /usr/local/lib/python3.10/dist-packages (from transformers<=4.43.3,>=4.43.0->parler_tts==0.2) (0.19.1)\n",
            "Requirement already satisfied: tqdm>=4.27 in /usr/local/lib/python3.10/dist-packages (from transformers<=4.43.3,>=4.43.0->parler_tts==0.2) (4.66.5)\n",
            "Requirement already satisfied: argbind>=0.3.7 in /usr/local/lib/python3.10/dist-packages (from descript-audio-codec->parler_tts==0.2) (0.3.9)\n",
            "Requirement already satisfied: descript-audiotools>=0.7.2 in /usr/local/lib/python3.10/dist-packages (from descript-audio-codec->parler_tts==0.2) (0.7.2)\n",
            "Requirement already satisfied: einops in /usr/local/lib/python3.10/dist-packages (from descript-audio-codec->parler_tts==0.2) (0.8.0)\n",
            "Requirement already satisfied: torchaudio in /usr/local/lib/python3.10/dist-packages (from descript-audio-codec->parler_tts==0.2) (2.4.1+cu121)\n",
            "Requirement already satisfied: typing-extensions>=4.8.0 in /usr/local/lib/python3.10/dist-packages (from torch->parler_tts==0.2) (4.12.2)\n",
            "Requirement already satisfied: sympy in /usr/local/lib/python3.10/dist-packages (from torch->parler_tts==0.2) (1.13.3)\n",
            "Requirement already satisfied: networkx in /usr/local/lib/python3.10/dist-packages (from torch->parler_tts==0.2) (3.3)\n",
            "Requirement already satisfied: jinja2 in /usr/local/lib/python3.10/dist-packages (from torch->parler_tts==0.2) (3.1.4)\n",
            "Requirement already satisfied: fsspec in /usr/local/lib/python3.10/dist-packages (from torch->parler_tts==0.2) (2024.6.1)\n",
            "Requirement already satisfied: docstring-parser in /usr/local/lib/python3.10/dist-packages (from argbind>=0.3.7->descript-audio-codec->parler_tts==0.2) (0.16)\n",
            "Requirement already satisfied: soundfile in /usr/local/lib/python3.10/dist-packages (from descript-audiotools>=0.7.2->descript-audio-codec->parler_tts==0.2) (0.12.1)\n",
            "Requirement already satisfied: pyloudnorm in /usr/local/lib/python3.10/dist-packages (from descript-audiotools>=0.7.2->descript-audio-codec->parler_tts==0.2) (0.1.1)\n",
            "Requirement already satisfied: importlib-resources in /usr/local/lib/python3.10/dist-packages (from descript-audiotools>=0.7.2->descript-audio-codec->parler_tts==0.2) (6.4.5)\n",
            "Requirement already satisfied: scipy in /usr/local/lib/python3.10/dist-packages (from descript-audiotools>=0.7.2->descript-audio-codec->parler_tts==0.2) (1.13.1)\n",
            "Requirement already satisfied: julius in /usr/local/lib/python3.10/dist-packages (from descript-audiotools>=0.7.2->descript-audio-codec->parler_tts==0.2) (0.2.7)\n",
            "Requirement already satisfied: ffmpy in /usr/local/lib/python3.10/dist-packages (from descript-audiotools>=0.7.2->descript-audio-codec->parler_tts==0.2) (0.4.0)\n",
            "Requirement already satisfied: ipython in /usr/local/lib/python3.10/dist-packages (from descript-audiotools>=0.7.2->descript-audio-codec->parler_tts==0.2) (7.34.0)\n",
            "Requirement already satisfied: rich in /usr/local/lib/python3.10/dist-packages (from descript-audiotools>=0.7.2->descript-audio-codec->parler_tts==0.2) (13.8.1)\n",
            "Requirement already satisfied: matplotlib in /usr/local/lib/python3.10/dist-packages (from descript-audiotools>=0.7.2->descript-audio-codec->parler_tts==0.2) (3.7.1)\n",
            "Requirement already satisfied: librosa in /usr/local/lib/python3.10/dist-packages (from descript-audiotools>=0.7.2->descript-audio-codec->parler_tts==0.2) (0.10.2.post1)\n",
            "Requirement already satisfied: pystoi in /usr/local/lib/python3.10/dist-packages (from descript-audiotools>=0.7.2->descript-audio-codec->parler_tts==0.2) (0.4.1)\n",
            "Requirement already satisfied: torch-stoi in /usr/local/lib/python3.10/dist-packages (from descript-audiotools>=0.7.2->descript-audio-codec->parler_tts==0.2) (0.2.3)\n",
            "Requirement already satisfied: flatten-dict in /usr/local/lib/python3.10/dist-packages (from descript-audiotools>=0.7.2->descript-audio-codec->parler_tts==0.2) (0.4.2)\n",
            "Requirement already satisfied: markdown2 in /usr/local/lib/python3.10/dist-packages (from descript-audiotools>=0.7.2->descript-audio-codec->parler_tts==0.2) (2.5.0)\n",
            "Requirement already satisfied: randomname in /usr/local/lib/python3.10/dist-packages (from descript-audiotools>=0.7.2->descript-audio-codec->parler_tts==0.2) (0.2.1)\n",
            "Requirement already satisfied: protobuf<3.20,>=3.9.2 in /usr/local/lib/python3.10/dist-packages (from descript-audiotools>=0.7.2->descript-audio-codec->parler_tts==0.2) (3.19.6)\n",
            "Requirement already satisfied: tensorboard in /usr/local/lib/python3.10/dist-packages (from descript-audiotools>=0.7.2->descript-audio-codec->parler_tts==0.2) (2.17.0)\n",
            "Requirement already satisfied: MarkupSafe>=2.0 in /usr/local/lib/python3.10/dist-packages (from jinja2->torch->parler_tts==0.2) (2.1.5)\n",
            "Requirement already satisfied: charset-normalizer<4,>=2 in /usr/local/lib/python3.10/dist-packages (from requests->transformers<=4.43.3,>=4.43.0->parler_tts==0.2) (3.3.2)\n",
            "Requirement already satisfied: idna<4,>=2.5 in /usr/local/lib/python3.10/dist-packages (from requests->transformers<=4.43.3,>=4.43.0->parler_tts==0.2) (3.10)\n",
            "Requirement already satisfied: urllib3<3,>=1.21.1 in /usr/local/lib/python3.10/dist-packages (from requests->transformers<=4.43.3,>=4.43.0->parler_tts==0.2) (2.2.3)\n",
            "Requirement already satisfied: certifi>=2017.4.17 in /usr/local/lib/python3.10/dist-packages (from requests->transformers<=4.43.3,>=4.43.0->parler_tts==0.2) (2024.8.30)\n",
            "Requirement already satisfied: mpmath<1.4,>=1.1.0 in /usr/local/lib/python3.10/dist-packages (from sympy->torch->parler_tts==0.2) (1.3.0)\n",
            "Requirement already satisfied: six<2.0,>=1.12 in /usr/local/lib/python3.10/dist-packages (from flatten-dict->descript-audiotools>=0.7.2->descript-audio-codec->parler_tts==0.2) (1.16.0)\n",
            "Requirement already satisfied: setuptools>=18.5 in /usr/local/lib/python3.10/dist-packages (from ipython->descript-audiotools>=0.7.2->descript-audio-codec->parler_tts==0.2) (71.0.4)\n",
            "Requirement already satisfied: jedi>=0.16 in /usr/local/lib/python3.10/dist-packages (from ipython->descript-audiotools>=0.7.2->descript-audio-codec->parler_tts==0.2) (0.19.1)\n",
            "Requirement already satisfied: decorator in /usr/local/lib/python3.10/dist-packages (from ipython->descript-audiotools>=0.7.2->descript-audio-codec->parler_tts==0.2) (4.4.2)\n",
            "Requirement already satisfied: pickleshare in /usr/local/lib/python3.10/dist-packages (from ipython->descript-audiotools>=0.7.2->descript-audio-codec->parler_tts==0.2) (0.7.5)\n",
            "Requirement already satisfied: traitlets>=4.2 in /usr/local/lib/python3.10/dist-packages (from ipython->descript-audiotools>=0.7.2->descript-audio-codec->parler_tts==0.2) (5.7.1)\n",
            "Requirement already satisfied: prompt-toolkit!=3.0.0,!=3.0.1,<3.1.0,>=2.0.0 in /usr/local/lib/python3.10/dist-packages (from ipython->descript-audiotools>=0.7.2->descript-audio-codec->parler_tts==0.2) (3.0.48)\n",
            "Requirement already satisfied: pygments in /usr/local/lib/python3.10/dist-packages (from ipython->descript-audiotools>=0.7.2->descript-audio-codec->parler_tts==0.2) (2.18.0)\n",
            "Requirement already satisfied: backcall in /usr/local/lib/python3.10/dist-packages (from ipython->descript-audiotools>=0.7.2->descript-audio-codec->parler_tts==0.2) (0.2.0)\n",
            "Requirement already satisfied: matplotlib-inline in /usr/local/lib/python3.10/dist-packages (from ipython->descript-audiotools>=0.7.2->descript-audio-codec->parler_tts==0.2) (0.1.7)\n",
            "Requirement already satisfied: pexpect>4.3 in /usr/local/lib/python3.10/dist-packages (from ipython->descript-audiotools>=0.7.2->descript-audio-codec->parler_tts==0.2) (4.9.0)\n",
            "Requirement already satisfied: audioread>=2.1.9 in /usr/local/lib/python3.10/dist-packages (from librosa->descript-audiotools>=0.7.2->descript-audio-codec->parler_tts==0.2) (3.0.1)\n",
            "Requirement already satisfied: scikit-learn>=0.20.0 in /usr/local/lib/python3.10/dist-packages (from librosa->descript-audiotools>=0.7.2->descript-audio-codec->parler_tts==0.2) (1.5.2)\n",
            "Requirement already satisfied: joblib>=0.14 in /usr/local/lib/python3.10/dist-packages (from librosa->descript-audiotools>=0.7.2->descript-audio-codec->parler_tts==0.2) (1.4.2)\n",
            "Requirement already satisfied: numba>=0.51.0 in /usr/local/lib/python3.10/dist-packages (from librosa->descript-audiotools>=0.7.2->descript-audio-codec->parler_tts==0.2) (0.60.0)\n",
            "Requirement already satisfied: pooch>=1.1 in /usr/local/lib/python3.10/dist-packages (from librosa->descript-audiotools>=0.7.2->descript-audio-codec->parler_tts==0.2) (1.8.2)\n",
            "Requirement already satisfied: soxr>=0.3.2 in /usr/local/lib/python3.10/dist-packages (from librosa->descript-audiotools>=0.7.2->descript-audio-codec->parler_tts==0.2) (0.5.0.post1)\n",
            "Requirement already satisfied: lazy-loader>=0.1 in /usr/local/lib/python3.10/dist-packages (from librosa->descript-audiotools>=0.7.2->descript-audio-codec->parler_tts==0.2) (0.4)\n",
            "Requirement already satisfied: msgpack>=1.0 in /usr/local/lib/python3.10/dist-packages (from librosa->descript-audiotools>=0.7.2->descript-audio-codec->parler_tts==0.2) (1.0.8)\n",
            "Requirement already satisfied: cffi>=1.0 in /usr/local/lib/python3.10/dist-packages (from soundfile->descript-audiotools>=0.7.2->descript-audio-codec->parler_tts==0.2) (1.17.1)\n",
            "Requirement already satisfied: contourpy>=1.0.1 in /usr/local/lib/python3.10/dist-packages (from matplotlib->descript-audiotools>=0.7.2->descript-audio-codec->parler_tts==0.2) (1.3.0)\n",
            "Requirement already satisfied: cycler>=0.10 in /usr/local/lib/python3.10/dist-packages (from matplotlib->descript-audiotools>=0.7.2->descript-audio-codec->parler_tts==0.2) (0.12.1)\n",
            "Requirement already satisfied: fonttools>=4.22.0 in /usr/local/lib/python3.10/dist-packages (from matplotlib->descript-audiotools>=0.7.2->descript-audio-codec->parler_tts==0.2) (4.54.1)\n",
            "Requirement already satisfied: kiwisolver>=1.0.1 in /usr/local/lib/python3.10/dist-packages (from matplotlib->descript-audiotools>=0.7.2->descript-audio-codec->parler_tts==0.2) (1.4.7)\n",
            "Requirement already satisfied: pillow>=6.2.0 in /usr/local/lib/python3.10/dist-packages (from matplotlib->descript-audiotools>=0.7.2->descript-audio-codec->parler_tts==0.2) (10.4.0)\n",
            "Requirement already satisfied: pyparsing>=2.3.1 in /usr/local/lib/python3.10/dist-packages (from matplotlib->descript-audiotools>=0.7.2->descript-audio-codec->parler_tts==0.2) (3.1.4)\n",
            "Requirement already satisfied: python-dateutil>=2.7 in /usr/local/lib/python3.10/dist-packages (from matplotlib->descript-audiotools>=0.7.2->descript-audio-codec->parler_tts==0.2) (2.8.2)\n",
            "Requirement already satisfied: future>=0.16.0 in /usr/local/lib/python3.10/dist-packages (from pyloudnorm->descript-audiotools>=0.7.2->descript-audio-codec->parler_tts==0.2) (1.0.0)\n",
            "Requirement already satisfied: fire in /usr/local/lib/python3.10/dist-packages (from randomname->descript-audiotools>=0.7.2->descript-audio-codec->parler_tts==0.2) (0.7.0)\n",
            "Requirement already satisfied: markdown-it-py>=2.2.0 in /usr/local/lib/python3.10/dist-packages (from rich->descript-audiotools>=0.7.2->descript-audio-codec->parler_tts==0.2) (3.0.0)\n",
            "Requirement already satisfied: absl-py>=0.4 in /usr/local/lib/python3.10/dist-packages (from tensorboard->descript-audiotools>=0.7.2->descript-audio-codec->parler_tts==0.2) (1.4.0)\n",
            "Requirement already satisfied: grpcio>=1.48.2 in /usr/local/lib/python3.10/dist-packages (from tensorboard->descript-audiotools>=0.7.2->descript-audio-codec->parler_tts==0.2) (1.64.1)\n",
            "Requirement already satisfied: markdown>=2.6.8 in /usr/local/lib/python3.10/dist-packages (from tensorboard->descript-audiotools>=0.7.2->descript-audio-codec->parler_tts==0.2) (3.7)\n",
            "Requirement already satisfied: tensorboard-data-server<0.8.0,>=0.7.0 in /usr/local/lib/python3.10/dist-packages (from tensorboard->descript-audiotools>=0.7.2->descript-audio-codec->parler_tts==0.2) (0.7.2)\n",
            "Requirement already satisfied: werkzeug>=1.0.1 in /usr/local/lib/python3.10/dist-packages (from tensorboard->descript-audiotools>=0.7.2->descript-audio-codec->parler_tts==0.2) (3.0.4)\n",
            "Requirement already satisfied: pycparser in /usr/local/lib/python3.10/dist-packages (from cffi>=1.0->soundfile->descript-audiotools>=0.7.2->descript-audio-codec->parler_tts==0.2) (2.22)\n",
            "Requirement already satisfied: parso<0.9.0,>=0.8.3 in /usr/local/lib/python3.10/dist-packages (from jedi>=0.16->ipython->descript-audiotools>=0.7.2->descript-audio-codec->parler_tts==0.2) (0.8.4)\n",
            "Requirement already satisfied: mdurl~=0.1 in /usr/local/lib/python3.10/dist-packages (from markdown-it-py>=2.2.0->rich->descript-audiotools>=0.7.2->descript-audio-codec->parler_tts==0.2) (0.1.2)\n",
            "Requirement already satisfied: llvmlite<0.44,>=0.43.0dev0 in /usr/local/lib/python3.10/dist-packages (from numba>=0.51.0->librosa->descript-audiotools>=0.7.2->descript-audio-codec->parler_tts==0.2) (0.43.0)\n",
            "Requirement already satisfied: ptyprocess>=0.5 in /usr/local/lib/python3.10/dist-packages (from pexpect>4.3->ipython->descript-audiotools>=0.7.2->descript-audio-codec->parler_tts==0.2) (0.7.0)\n",
            "Requirement already satisfied: platformdirs>=2.5.0 in /usr/local/lib/python3.10/dist-packages (from pooch>=1.1->librosa->descript-audiotools>=0.7.2->descript-audio-codec->parler_tts==0.2) (4.3.6)\n",
            "Requirement already satisfied: wcwidth in /usr/local/lib/python3.10/dist-packages (from prompt-toolkit!=3.0.0,!=3.0.1,<3.1.0,>=2.0.0->ipython->descript-audiotools>=0.7.2->descript-audio-codec->parler_tts==0.2) (0.2.13)\n",
            "Requirement already satisfied: threadpoolctl>=3.1.0 in /usr/local/lib/python3.10/dist-packages (from scikit-learn>=0.20.0->librosa->descript-audiotools>=0.7.2->descript-audio-codec->parler_tts==0.2) (3.5.0)\n",
            "Requirement already satisfied: termcolor in /usr/local/lib/python3.10/dist-packages (from fire->randomname->descript-audiotools>=0.7.2->descript-audio-codec->parler_tts==0.2) (2.4.0)\n"
          ]
        }
      ],
      "source": [
        "!pip install git+https://github.com/huggingface/parler-tts.git\n"
      ]
    },
    {
      "cell_type": "markdown",
      "metadata": {
        "id": "vWGGte7bwTn4"
      },
      "source": [
        "Определить и кратко описать в отчете разработанный вами план оценки модели:\n",
        "\n",
        "**Отбор аудио и текстов**\n",
        "\n",
        "*Отбор аудио:*\n",
        "\n",
        "Разнообразие голосов: Мужские и женские, акценты и интонации.\n",
        "Длина фраз: Короткие, так и длинные предложения для проверки способности модели обрабатывать различные размеры текстов.\n",
        "Контекстуальные записи:Разный контекст (разговорные, научные, технические) для проверки точности передачи сложных терминов и выражений.\n",
        "Интонация: Повествовательная,вопросительная,восклицательная\n",
        "\n",
        "*Отбор текстов:*\n",
        "\n",
        "Стили: научный,\n",
        "официально-деловой,\n",
        "публицистический,\n",
        "художественный,\n",
        "разговорный.\n",
        "\n",
        "Структурное разнообразие: Использованы тексты с разной длиной и сложностью, включая односложные слова, многосложные слова и фразы с различными ударениями.\n",
        "\n",
        "Лексическое разнообразие: Включены слова и фразы, требующие разных ударений и акцентов, чтобы проверить адаптацию модели к различным фонетическим контекстам.\n",
        "\n",
        "**Характеристики синтеза речи**\n",
        "\n",
        "Натуральность: Оценка, насколько синтезированная речь звучит естественно по сравнению с речью человека.\n",
        "Четкость и артикуляция: Анализ, насколько хорошо слышны и различимы отдельные звуки и слова.\n",
        "Правильность ударений: Проверка правильности ударений в многосложных словах и фразах.\n",
        "Интонация и ритм: Оценка способности модели передавать различные интонационные контуры и ритмические паттерны.\n",
        "Согласованность с текстом: Анализ, насколько синтезированная речь соответствует тексту, включая наличие ошибок, пропусков или неправильного произношения.\n",
        "\n",
        "**Метрики**\n",
        "\n",
        "Отмечу, что для оценки качества TTS моделей используется MOS (Mean Opinion Score),но это субъективная оценка качества синтезированной речи с привлечением экспертов. Попробуй посмотреть на другие метрики:\n",
        "\n",
        "WER (Word Error Rate): показатель ошибок в передаче текста. Высчитывается по количеству неправильно синтезированных слов относительно исходного текста.\n",
        "\n",
        "STOI (Short-Time Objective Intelligibility) : Используется для оценки четкости речи, особенно важна для проверки, как хорошо слышны отдельные фонемы и слова.\n",
        "\n",
        "PESQ (Perceptual Evaluation of Speech Quality) — для объективной оценки качества речи на уровне акустических характеристик.\n"
      ]
    },
    {
      "cell_type": "code",
      "source": [
        "!pip install jiwer pystoi pesq scipy soundfile\n"
      ],
      "metadata": {
        "colab": {
          "base_uri": "https://localhost:8080/"
        },
        "id": "mL5Je_ATS672",
        "outputId": "2e856026-c727-4c95-84a9-c3977654eeaa"
      },
      "execution_count": 2,
      "outputs": [
        {
          "output_type": "stream",
          "name": "stdout",
          "text": [
            "Requirement already satisfied: jiwer in /usr/local/lib/python3.10/dist-packages (3.0.4)\n",
            "Requirement already satisfied: pystoi in /usr/local/lib/python3.10/dist-packages (0.4.1)\n",
            "Requirement already satisfied: pesq in /usr/local/lib/python3.10/dist-packages (0.0.4)\n",
            "Requirement already satisfied: scipy in /usr/local/lib/python3.10/dist-packages (1.13.1)\n",
            "Requirement already satisfied: soundfile in /usr/local/lib/python3.10/dist-packages (0.12.1)\n",
            "Requirement already satisfied: click<9.0.0,>=8.1.3 in /usr/local/lib/python3.10/dist-packages (from jiwer) (8.1.7)\n",
            "Requirement already satisfied: rapidfuzz<4,>=3 in /usr/local/lib/python3.10/dist-packages (from jiwer) (3.10.0)\n",
            "Requirement already satisfied: numpy in /usr/local/lib/python3.10/dist-packages (from pystoi) (1.26.4)\n",
            "Requirement already satisfied: cffi>=1.0 in /usr/local/lib/python3.10/dist-packages (from soundfile) (1.17.1)\n",
            "Requirement already satisfied: pycparser in /usr/local/lib/python3.10/dist-packages (from cffi>=1.0->soundfile) (2.22)\n"
          ]
        }
      ]
    },
    {
      "cell_type": "code",
      "execution_count": 3,
      "metadata": {
        "colab": {
          "base_uri": "https://localhost:8080/"
        },
        "id": "SH6g-fZ6wgsd",
        "outputId": "64175519-fd5f-4fff-e070-c746a33c8729"
      },
      "outputs": [
        {
          "output_type": "stream",
          "name": "stderr",
          "text": [
            "WARNING:parler_tts.modeling_parler_tts:Flash attention 2 is not installed\n",
            "/usr/local/lib/python3.10/dist-packages/huggingface_hub/utils/_token.py:89: UserWarning: \n",
            "The secret `HF_TOKEN` does not exist in your Colab secrets.\n",
            "To authenticate with the Hugging Face Hub, create a token in your settings tab (https://huggingface.co/settings/tokens), set it as secret in your Google Colab and restart your session.\n",
            "You will be able to reuse this secret in all of your notebooks.\n",
            "Please note that authentication is recommended but still optional to access public models or datasets.\n",
            "  warnings.warn(\n",
            "/usr/local/lib/python3.10/dist-packages/torch/nn/utils/weight_norm.py:134: FutureWarning: `torch.nn.utils.weight_norm` is deprecated in favor of `torch.nn.utils.parametrizations.weight_norm`.\n",
            "  WeightNorm.apply(module, name, dim)\n",
            "You set `add_prefix_space`. The tokenizer needs to be converted from the slow tokenizers\n",
            "The attention mask is not set and cannot be inferred from input because pad token is same as eos token.As a consequence, you may observe unexpected behavior. Please pass your input's `attention_mask` to obtain reliable results.\n"
          ]
        },
        {
          "output_type": "stream",
          "name": "stdout",
          "text": [
            "Сгенерировано: parler_tts_out_0.wav\n",
            "Сгенерировано: parler_tts_out_1.wav\n",
            "Сгенерировано: parler_tts_out_2.wav\n",
            "Сгенерировано: parler_tts_out_3.wav\n",
            "Сгенерировано: parler_tts_out_4.wav\n",
            "Сгенерировано: parler_tts_out_5.wav\n"
          ]
        }
      ],
      "source": [
        "import os\n",
        "import random\n",
        "import torch\n",
        "from jiwer import wer\n",
        "import soundfile as sf\n",
        "from pystoi import stoi\n",
        "from pesq import pesq\n",
        "from scipy.io import wavfile\n",
        "from parler_tts import ParlerTTSForConditionalGeneration\n",
        "from transformers import AutoTokenizer\n",
        "\n",
        "# Установка устройства\n",
        "device = 'cuda:0' if torch.cuda.is_available() else 'cpu'\n",
        "\n",
        "model = ParlerTTSForConditionalGeneration.from_pretrained(\"parler-tts/parler-tts-mini-jenny-30H\").to(device)\n",
        "tokenizer = AutoTokenizer.from_pretrained(\"parler-tts/parler-tts-mini-jenny-30H\")\n",
        "\n",
        "prompts = [\n",
        "    \"How are you?\",\n",
        "    \"It's a sunny day.\",\n",
        "    \"Unpredictable.\",\n",
        "    \"This is really important, isn't it?\",\n",
        "    \"Quantum mechanics describes the behavior of particles at the atomic and subatomic levels.\",\n",
        "    \"That's awesome!!!\"\n",
        "]\n",
        "\n",
        "description = \"A female speaker with a slightly low-pitched voice delivers her words quite expressively, in a very confined sounding environment with clear audio quality. She speaks very fast.\"\n",
        "\n",
        "input_ids = tokenizer(description, return_tensors='pt').input_ids.to(device)\n",
        "\n",
        "for i, prompt in enumerate(prompts):\n",
        "    prompt_input_ids = tokenizer(prompt, return_tensors='pt').input_ids.to(device)\n",
        "\n",
        "    generation = model.generate(input_ids=input_ids, prompt_input_ids=prompt_input_ids)\n",
        "\n",
        "    if generation.ndim > 1:\n",
        "        audio_arr = generation[0].cpu().numpy()\n",
        "    else:\n",
        "        audio_arr = generation.cpu().numpy()\n",
        "\n",
        "    if audio_arr.ndim > 1:\n",
        "        audio_arr = audio_arr.squeeze()\n",
        "\n",
        "    audio_file_name = f\"parler_tts_out_{i}.wav\"\n",
        "    sf.write(audio_file_name, audio_arr, model.config.sampling_rate)\n",
        "    print(f\"Сгенерировано: {audio_file_name}\")"
      ]
    },
    {
      "cell_type": "markdown",
      "source": [
        "Тут реализована функция check, которая выведет показатели метрик для этого"
      ],
      "metadata": {
        "id": "Q4d7gBxxSmnA"
      }
    },
    {
      "cell_type": "code",
      "source": [
        "import os\n",
        "import random\n",
        "import torch\n",
        "import soundfile as sf\n",
        "from jiwer import wer\n",
        "from pystoi import stoi\n",
        "from pesq import pesq\n",
        "from scipy.io import wavfile\n",
        "\n",
        "\n",
        "def compute_wer(reference_texts, generated_texts):\n",
        "    total_wer = 0\n",
        "    for ref, gen in zip(reference_texts, generated_texts):\n",
        "        total_wer += wer(ref, gen)\n",
        "    return total_wer / len(reference_texts)\n",
        "\n",
        "def compute_stoi(reference_audio, generated_audio):\n",
        "    rate_ref, ref = wavfile.read(reference_audio)\n",
        "    rate_gen, gen = wavfile.read(generated_audio)\n",
        "\n",
        "    # Убедитесь, что частоты дискретизации совпадают\n",
        "    if rate_ref != rate_gen:\n",
        "        raise ValueError(\"Sampling rates do not match\")\n",
        "\n",
        "    return stoi(ref, gen, rate_ref)\n",
        "\n",
        "def compute_pesq(reference_audio, generated_audio, sampling_rate):\n",
        "    ref_rate, ref = wavfile.read(reference_audio)\n",
        "    gen_rate, gen = wavfile.read(generated_audio)\n",
        "\n",
        "    # Убедитесь, что частоты дискретизации совпадают\n",
        "    if ref_rate != gen_rate:\n",
        "        raise ValueError(\"Sampling rates do not match\")\n",
        "\n",
        "    return pesq(ref_rate, ref, gen)\n",
        "\n",
        "\n",
        "def check(selected_audio_files, generated_audio_files, selected_reference_texts):\n",
        "    generated_texts = selected_reference_texts\n",
        "\n",
        "    wer_score = compute_wer(selected_reference_texts, generated_texts)\n",
        "    print(f\"Word Error Rate (WER): {wer_score}\")\n",
        "\n",
        "    for i in range(len(selected_audio_files)):\n",
        "        stoi_score = compute_stoi(selected_audio_files[i], generated_audio_files[i])\n",
        "        print(f\"Short-Time Objective Intelligibility (STOI) for {i}: {stoi_score}\")\n",
        "\n",
        "        pesq_score = compute_pesq(selected_audio_files[i], generated_audio_files[i], model.config.sampling_rate)  # Используйте соответствующую частоту дискретизации\n",
        "        print(f\"Perceptual Evaluation of Speech Quality (PESQ) for {i}: {pesq_score}\")\n"
      ],
      "metadata": {
        "id": "_RCwIXkdPg2w"
      },
      "execution_count": 4,
      "outputs": []
    }
  ],
  "metadata": {
    "colab": {
      "provenance": []
    },
    "kernelspec": {
      "display_name": "Python 3",
      "name": "python3"
    },
    "language_info": {
      "name": "python"
    }
  },
  "nbformat": 4,
  "nbformat_minor": 0
}